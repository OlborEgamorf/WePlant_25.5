{
 "cells": [
  {
   "cell_type": "markdown",
   "metadata": {},
   "source": [
    "Fichier de traitements des CSVs"
   ]
  },
  {
   "cell_type": "markdown",
   "metadata": {},
   "source": [
    "imports :"
   ]
  },
  {
   "cell_type": "code",
   "execution_count": 4,
   "metadata": {},
   "outputs": [],
   "source": [
    "from bs4 import BeautifulSoup\n",
    "import pandas as pd\n",
    "import numpy as np"
   ]
  },
  {
   "cell_type": "markdown",
   "metadata": {},
   "source": [
    "Dataframes : "
   ]
  },
  {
   "cell_type": "code",
   "execution_count": 3,
   "metadata": {},
   "outputs": [],
   "source": [
    "a_to_z = pd.read_csv(\"../data/A_to_Z_Flowers_cleaned.csv\")\n",
    "plant_growth = pd.read_csv(\"../data/plant_growth_data.csv\")\n",
    "plant_health = pd.read_csv(\"../data/plant_health_data.csv\")"
   ]
  },
  {
   "cell_type": "markdown",
   "metadata": {},
   "source": [
    "traitement du fichier A_to_Z_Flowers_cleaned"
   ]
  },
  {
   "cell_type": "code",
   "execution_count": null,
   "metadata": {},
   "outputs": [
    {
     "name": "stdout",
     "output_type": "stream",
     "text": [
      "                                          Name  \\\n",
      "0                            Achillea (Yarrow)   \n",
      "1     Aconitum (Aconite; Monkshood; Wolfsbane)   \n",
      "2  Agapanthus (African Lily; Lily of the Nile)   \n",
      "3            Ageratum (Whiteweed; Flossflower)   \n",
      "4                     Ajuga (Bugle; Bugleweed)   \n",
      "\n",
      "                                                Desc            PlantType  \\\n",
      "0  Achillea, commonly known as Yarrow, is a genus...           Perennials   \n",
      "1  Aconitum, also known as Aconite, is a genus of...           Perennials   \n",
      "2  Agapanthus is a genus composed of about 10 spe...    Bulbs, Perennials   \n",
      "3  Ageratum is a genus of about 50 species of ann...              Annuals   \n",
      "4  Ajuga is a genus of about 70 species in the fa...  Annuals, Perennials   \n",
      "\n",
      "                                               Color HardinessZones  \\\n",
      "0  Yarrow comes in a wide range of colors includi...            3-9   \n",
      "1  The flowers come in shades of blue, purple, wh...            3-8   \n",
      "2  These flowers are usually blue, white and purple.           6-11   \n",
      "3  The flowers come in shades of blue, purple, re...           2-11   \n",
      "4    The flowers are usually blue, purple and white.           3-10   \n",
      "\n",
      "         BloomsIn                                             Height  \\\n",
      "0  Spring, Summer  This plant usually grows between 30 and 90 cm ...   \n",
      "1  Autumn, Summer  Aconite is a tall plant that grows from 30 cm ...   \n",
      "2  Autumn, Summer  Agapanthus range in height from just 20 cm (8 ...   \n",
      "3  Autumn, Summer  These plants can grow up to 60 cm (2 ft) in he...   \n",
      "4  Spring, Summer     These plants can grow up to 30 cm (1 ft) tall.   \n",
      "\n",
      "                                           SoilNeeds               SunNeeds  \\\n",
      "0  Achillea will grow best in well drained soil, ...               Full sun   \n",
      "1  Aconite will perform best in rich, moist and w...  Full sun, Partial sun   \n",
      "2  Agapanthus grows best in fertile, moist and we...  Full sun, Partial sun   \n",
      "3  Ageratum prefers moist, but well drained soil,...  Full sun, Partial sun   \n",
      "4  The plant grows best in moist and well drained...     Partial sun, Shade   \n",
      "\n",
      "  WaterNeeds Maintenance  \n",
      "0        low         low  \n",
      "1    avarage      medium  \n",
      "2    avarage         low  \n",
      "3    avarage         low  \n",
      "4    avarage         low  \n"
     ]
    },
    {
     "name": "stderr",
     "output_type": "stream",
     "text": [
      "C:\\Users\\Noah\\AppData\\Local\\Temp\\ipykernel_13632\\3952138697.py:7: FutureWarning: DataFrame.applymap has been deprecated. Use DataFrame.map instead.\n",
      "  df_cleaned = a_to_z.applymap(remove_html)\n"
     ]
    }
   ],
   "source": [
    "#suppression des balises html\n",
    "def remove_html(text):\n",
    "    if isinstance(text, str):\n",
    "        return BeautifulSoup(text, \"html.parser\").get_text()\n",
    "    return text\n",
    "\n",
    "df_cleaned = a_to_z.applymap(remove_html)\n",
    "\n",
    "df_cleaned.to_csv(\"../data/A_to_Z_Flowers_cleaned.csv\", index=False)\n",
    "\n",
    "print(df_cleaned.head())"
   ]
  },
  {
   "cell_type": "markdown",
   "metadata": {},
   "source": [
    "Essai de création d'une base compatible pour un modèle"
   ]
  },
  {
   "cell_type": "code",
   "execution_count": 5,
   "metadata": {},
   "outputs": [
    {
     "name": "stdout",
     "output_type": "stream",
     "text": [
      "                    Timestamp  Plant_ID  Soil_Moisture  Ambient_Temperature  \\\n",
      "0  2024-10-03 10:54:53.407995         1      27.521109            22.240245   \n",
      "1  2024-10-03 16:54:53.407995         1      14.835566            21.706763   \n",
      "2  2024-10-03 22:54:53.407995         1      17.086362            21.180946   \n",
      "3  2024-10-04 04:54:53.407995         1      15.336156            22.593302   \n",
      "4  2024-10-04 10:54:53.407995         1      39.822216            28.929001   \n",
      "\n",
      "   Soil_Temperature   Humidity  Light_Intensity   Soil_pH  Nitrogen_Level  \\\n",
      "0         21.900435  55.291904       556.172805  5.581955       10.003650   \n",
      "1         18.680892  63.949181       596.136721  7.135705       30.712562   \n",
      "2         15.392939  67.837956       591.124627  5.656852       29.337002   \n",
      "3         22.778394  58.190811       241.412476  5.584523       16.966621   \n",
      "4         18.100937  63.772036       444.493830  5.919707       10.944961   \n",
      "\n",
      "   Phosphorus_Level  Potassium_Level  Chlorophyll_Content  \\\n",
      "0         45.806852        39.076199            35.703006   \n",
      "1         25.394393        17.944826            27.993296   \n",
      "2         27.573892        35.706530            43.646308   \n",
      "3         26.180705        26.257746            37.838095   \n",
      "4         37.898907        37.654483            48.265812   \n",
      "\n",
      "   Electrochemical_Signal Plant_Health_Status Soil_Type  \n",
      "0                0.941402         High Stress    Argile  \n",
      "1                0.164899         High Stress     Sable  \n",
      "2                1.081728         High Stress    Argile  \n",
      "3                1.186088         High Stress     Sable  \n",
      "4                1.609805         High Stress    Argile  \n"
     ]
    }
   ],
   "source": [
    "soil_types = [\"Argile\", \"Limon\", \"Sable\"]\n",
    "plant_health[\"Soil_Type\"] = np.random.choice(soil_types, size=len(plant_health))\n",
    "print(plant_health.head())\n"
   ]
  },
  {
   "cell_type": "markdown",
   "metadata": {},
   "source": [
    "Sauvegarde du df dans un nouveau CSV test"
   ]
  },
  {
   "cell_type": "code",
   "execution_count": 8,
   "metadata": {},
   "outputs": [],
   "source": [
    "plant_health.to_csv(\"../data/test.csv\", index=False)\n"
   ]
  }
 ],
 "metadata": {
  "kernelspec": {
   "display_name": "Python 3",
   "language": "python",
   "name": "python3"
  },
  "language_info": {
   "codemirror_mode": {
    "name": "ipython",
    "version": 3
   },
   "file_extension": ".py",
   "mimetype": "text/x-python",
   "name": "python",
   "nbconvert_exporter": "python",
   "pygments_lexer": "ipython3",
   "version": "3.12.5"
  }
 },
 "nbformat": 4,
 "nbformat_minor": 2
}
