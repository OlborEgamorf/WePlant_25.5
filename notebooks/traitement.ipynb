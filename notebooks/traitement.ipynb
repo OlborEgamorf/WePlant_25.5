{
 "cells": [
  {
   "cell_type": "code",
   "execution_count": 1,
   "metadata": {},
   "outputs": [],
   "source": [
    "from bs4 import BeautifulSoup\n",
    "import pandas as pd\n"
   ]
  },
  {
   "cell_type": "code",
   "execution_count": null,
   "metadata": {},
   "outputs": [],
   "source": [
    "a_to_z = pd.read_csv(\"../data/A_to_Z_Flowers_cleaned.csv\")"
   ]
  },
  {
   "cell_type": "code",
   "execution_count": null,
   "metadata": {},
   "outputs": [
    {
     "name": "stdout",
     "output_type": "stream",
     "text": [
      "                                          Name  \\\n",
      "0                            Achillea (Yarrow)   \n",
      "1     Aconitum (Aconite; Monkshood; Wolfsbane)   \n",
      "2  Agapanthus (African Lily; Lily of the Nile)   \n",
      "3            Ageratum (Whiteweed; Flossflower)   \n",
      "4                     Ajuga (Bugle; Bugleweed)   \n",
      "\n",
      "                                                Desc            PlantType  \\\n",
      "0  Achillea, commonly known as Yarrow, is a genus...           Perennials   \n",
      "1  Aconitum, also known as Aconite, is a genus of...           Perennials   \n",
      "2  Agapanthus is a genus composed of about 10 spe...    Bulbs, Perennials   \n",
      "3  Ageratum is a genus of about 50 species of ann...              Annuals   \n",
      "4  Ajuga is a genus of about 70 species in the fa...  Annuals, Perennials   \n",
      "\n",
      "                                               Color HardinessZones  \\\n",
      "0  Yarrow comes in a wide range of colors includi...            3-9   \n",
      "1  The flowers come in shades of blue, purple, wh...            3-8   \n",
      "2  These flowers are usually blue, white and purple.           6-11   \n",
      "3  The flowers come in shades of blue, purple, re...           2-11   \n",
      "4    The flowers are usually blue, purple and white.           3-10   \n",
      "\n",
      "         BloomsIn                                             Height  \\\n",
      "0  Spring, Summer  This plant usually grows between 30 and 90 cm ...   \n",
      "1  Autumn, Summer  Aconite is a tall plant that grows from 30 cm ...   \n",
      "2  Autumn, Summer  Agapanthus range in height from just 20 cm (8 ...   \n",
      "3  Autumn, Summer  These plants can grow up to 60 cm (2 ft) in he...   \n",
      "4  Spring, Summer     These plants can grow up to 30 cm (1 ft) tall.   \n",
      "\n",
      "                                           SoilNeeds               SunNeeds  \\\n",
      "0  Achillea will grow best in well drained soil, ...               Full sun   \n",
      "1  Aconite will perform best in rich, moist and w...  Full sun, Partial sun   \n",
      "2  Agapanthus grows best in fertile, moist and we...  Full sun, Partial sun   \n",
      "3  Ageratum prefers moist, but well drained soil,...  Full sun, Partial sun   \n",
      "4  The plant grows best in moist and well drained...     Partial sun, Shade   \n",
      "\n",
      "  WaterNeeds Maintenance  \n",
      "0        low         low  \n",
      "1    avarage      medium  \n",
      "2    avarage         low  \n",
      "3    avarage         low  \n",
      "4    avarage         low  \n"
     ]
    },
    {
     "name": "stderr",
     "output_type": "stream",
     "text": [
      "C:\\Users\\Noah\\AppData\\Local\\Temp\\ipykernel_13632\\1277480395.py:6: FutureWarning: DataFrame.applymap has been deprecated. Use DataFrame.map instead.\n",
      "  df_cleaned = a_to_z.applymap(remove_html)\n"
     ]
    }
   ],
   "source": [
    "#traitement du fichier A_to_Z_Flowers_cleaned en supprimant les balises html\n",
    "def remove_html(text):\n",
    "    if isinstance(text, str):\n",
    "        return BeautifulSoup(text, \"html.parser\").get_text()\n",
    "    return text\n",
    "\n",
    "df_cleaned = a_to_z.applymap(remove_html)\n",
    "\n",
    "df_cleaned.to_csv(\"A_to_Z_Flowers_cleaned.csv\", index=False)\n",
    "\n",
    "print(df_cleaned.head())"
   ]
  }
 ],
 "metadata": {
  "kernelspec": {
   "display_name": "Python 3",
   "language": "python",
   "name": "python3"
  },
  "language_info": {
   "codemirror_mode": {
    "name": "ipython",
    "version": 3
   },
   "file_extension": ".py",
   "mimetype": "text/x-python",
   "name": "python",
   "nbconvert_exporter": "python",
   "pygments_lexer": "ipython3",
   "version": "3.12.5"
  }
 },
 "nbformat": 4,
 "nbformat_minor": 2
}
